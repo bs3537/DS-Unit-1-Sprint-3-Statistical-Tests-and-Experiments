{
  "nbformat": 4,
  "nbformat_minor": 0,
  "metadata": {
    "colab": {
      "name": "Bhav_LS_DS_133_Introduction_to_Bayesian_Inference_Assignment.ipynb",
      "provenance": [],
      "collapsed_sections": [],
      "include_colab_link": true
    },
    "kernelspec": {
      "name": "python3",
      "display_name": "Python 3"
    }
  },
  "cells": [
    {
      "cell_type": "markdown",
      "metadata": {
        "id": "view-in-github",
        "colab_type": "text"
      },
      "source": [
        "<a href=\"https://colab.research.google.com/github/bs3537/DS-Unit-1-Sprint-3-Statistical-Tests-and-Experiments/blob/master/Bhav_LS_DS_133_Introduction_to_Bayesian_Inference_Assignment.ipynb\" target=\"_parent\"><img src=\"https://colab.research.google.com/assets/colab-badge.svg\" alt=\"Open In Colab\"/></a>"
      ]
    },
    {
      "cell_type": "markdown",
      "metadata": {
        "id": "H7OLbevlbd_Z",
        "colab_type": "text"
      },
      "source": [
        "# Lambda School Data Science Module 133\n",
        "\n",
        "## Introduction to Bayesian Inference\n",
        "\n",
        "\n"
      ]
    },
    {
      "cell_type": "markdown",
      "metadata": {
        "id": "P-DzzRk5bf0z",
        "colab_type": "text"
      },
      "source": [
        "## Assignment - Code it up!\n",
        "\n",
        "Most of the above was pure math - now write Python code to reproduce the results! This is purposefully open ended - you'll have to think about how you should represent probabilities and events. You can and should look things up, and as a stretch goal - refactor your code into helpful reusable functions!\n",
        "\n",
        "Specific goals/targets:\n",
        "\n",
        "1. Write a function `def prob_drunk_given_positive(prob_drunk_prior, prob_positive, prob_positive_drunk)` that reproduces the example from lecture, and use it to calculate and visualize a range of situations\n",
        "2. Explore `scipy.stats.bayes_mvs` - read its documentation, and experiment with it on data you've tested in other ways earlier this week\n",
        "3. Create a visualization comparing the results of a Bayesian approach to a traditional/frequentist approach\n",
        "4. In your own words, summarize the difference between Bayesian and Frequentist statistics\n",
        "\n",
        "If you're unsure where to start, check out [this blog post of Bayes theorem with Python](https://dataconomy.com/2015/02/introduction-to-bayes-theorem-with-python/) - you could and should create something similar!\n",
        "\n",
        "Stretch goals:\n",
        "\n",
        "- Apply a Bayesian technique to a problem you previously worked (in an assignment or project work) on from a frequentist (standard) perspective\n",
        "- Check out [PyMC3](https://docs.pymc.io/) (note this goes beyond hypothesis tests into modeling) - read the guides and work through some examples\n",
        "- Take PyMC3 further - see if you can build something with it!"
      ]
    },
    {
      "cell_type": "markdown",
      "metadata": {
        "id": "rn_yVnmZTuas",
        "colab_type": "text"
      },
      "source": [
        "###Write a function def prob_drunk_given_positive(prob_drunk_prior, prob_positive, prob_positive_drunk) that reproduces the example from lecture"
      ]
    },
    {
      "cell_type": "code",
      "metadata": {
        "id": "xpVhZyUnbf7o",
        "colab_type": "code",
        "colab": {}
      },
      "source": [
        "#STEP 1:\n",
        "\n",
        "# Write a function def prob_drunk_given_positive(prob_drunk_prior, prob_positive, prob_positive_drunk) that reproduces the example from lecture, and use it to calculate and visualize a range of situations\n",
        "# Breathalyzer tests\n",
        "# True positive rate = 100% = [(P(Positive/Drunk))] = probab_positive_drunk\n",
        "# Prior Rate of drunk driving = 1 in 1000 (0.001) = P (Drunk) = probab_drunk_prior\n",
        "# False positive rate = 8% = P (Positive) = probab_positive"
      ],
      "execution_count": 0,
      "outputs": []
    },
    {
      "cell_type": "code",
      "metadata": {
        "id": "HKhmR06BSbCw",
        "colab_type": "code",
        "colab": {}
      },
      "source": [
        "import numpy as np\n"
      ],
      "execution_count": 0,
      "outputs": []
    },
    {
      "cell_type": "code",
      "metadata": {
        "id": "idK_xA6eDozY",
        "colab_type": "code",
        "colab": {}
      },
      "source": [
        "def prob_drunk_given_positive(prob_drunk_prior, prob_positive_drunk, prob_positive):\n",
        "  return (prob_drunk_prior * prob_positive_drunk) / prob_positive"
      ],
      "execution_count": 0,
      "outputs": []
    },
    {
      "cell_type": "code",
      "metadata": {
        "id": "nn-CPpiaSGog",
        "colab_type": "code",
        "outputId": "5b4b79ad-8d89-4699-bf92-7983a763f2e5",
        "colab": {
          "base_uri": "https://localhost:8080/",
          "height": 36
        }
      },
      "source": [
        "# scenario for breathalyzer test in the lecture\n",
        "prob_drunk_given_positive(0.001, 1, 0.08)"
      ],
      "execution_count": 0,
      "outputs": [
        {
          "output_type": "execute_result",
          "data": {
            "text/plain": [
              "0.0125"
            ]
          },
          "metadata": {
            "tags": []
          },
          "execution_count": 282
        }
      ]
    },
    {
      "cell_type": "code",
      "metadata": {
        "id": "cxYL1fIUT1TU",
        "colab_type": "code",
        "outputId": "18bc0e24-823d-4dcb-bdac-d9e2299b82e3",
        "colab": {
          "base_uri": "https://localhost:8080/",
          "height": 36
        }
      },
      "source": [
        "# Another scenario with different values for true positive and false positive rate\n",
        "\n",
        "prob_drunk_given_positive(0.001, 0.8, 0.1)\n",
        "\n",
        "# The probability of being positive drunk is still very low due to same input for very low prevalence of found drunk in the general population i.e. the prior which is a very important input in Bayesian statistics"
      ],
      "execution_count": 0,
      "outputs": [
        {
          "output_type": "execute_result",
          "data": {
            "text/plain": [
              "0.008"
            ]
          },
          "metadata": {
            "tags": []
          },
          "execution_count": 284
        }
      ]
    },
    {
      "cell_type": "markdown",
      "metadata": {
        "id": "5OKsgd18Ds54",
        "colab_type": "text"
      },
      "source": [
        "### ****Python Program for Bayesian Theorem applied to Breathalyzer test****"
      ]
    },
    {
      "cell_type": "code",
      "metadata": {
        "id": "PGqdN2kLe6qQ",
        "colab_type": "code",
        "outputId": "2d0e9d05-d47a-4c03-ff47-20020ed789eb",
        "colab": {
          "base_uri": "https://localhost:8080/",
          "height": 168
        }
      },
      "source": [
        "# ****Python Program for Bayesian Theorem applied to Breathalyzer test****\n",
        "\n",
        "print(\"Enter 'x' for exit.\");\n",
        "\n",
        "print(\"Enter prob_drunk_prior or population incidence of drunk driving in fractions: press enter after entering number \");\n",
        "num1 = input();\n",
        "print(\"probab_positive_drunk or True positive rate in fractions: press enter after entering number\");\n",
        "num2 = input();\n",
        "print(\"prob_positive or False positive rate in fractions: press enter after entering number\");\n",
        "num3 = input();\n",
        "\n",
        "if num1 == 'x':\n",
        "    exit();\n",
        "    \n",
        "else:\n",
        "    res = float(num1) * float(num2) / float(num3)\n",
        "    print (\"prob_drunk_given_positive in fractions=\", res)\n",
        "    \n",
        "  \n",
        "   "
      ],
      "execution_count": 0,
      "outputs": [
        {
          "output_type": "stream",
          "text": [
            "Enter 'x' for exit.\n",
            "Enter prob_drunk_prior or population incidence of drunk driving in fractions: press enter after entering number \n",
            "0.001\n",
            "probab_positive_drunk or True positive rate in fractions: press enter after entering number\n",
            "1\n",
            "prob_positive or False positive rate in fractions: press enter after entering number\n",
            "0.08\n",
            "prob_drunk_given_positive in fractions= 0.0125\n"
          ],
          "name": "stdout"
        }
      ]
    },
    {
      "cell_type": "markdown",
      "metadata": {
        "id": "cB3rcr4LuCmc",
        "colab_type": "text"
      },
      "source": [
        "### STEP 2:\n",
        "### Explore scipy.stats.bayes_mvs - read its documentation, and experiment with it on data you've tested in other ways earlier this week"
      ]
    },
    {
      "cell_type": "code",
      "metadata": {
        "id": "nr766EeysXc4",
        "colab_type": "code",
        "outputId": "c5e339df-6311-4482-863e-71c987dda4c0",
        "colab": {
          "base_uri": "https://localhost:8080/",
          "height": 206
        }
      },
      "source": [
        "# STEP 2:\n",
        "# Explore scipy.stats.bayes_mvs - read its documentation, and experiment with it on data you've tested in other ways earlier this week\n",
        "\n",
        "import pandas as pd\n",
        "import numpy as np\n",
        "df = pd.read_csv('https://raw.githubusercontent.com/bs3537/DS-Unit-1-Sprint-3-Statistical-Tests-and-Experiments/master/master.csv')\n",
        "df.head()"
      ],
      "execution_count": 0,
      "outputs": [
        {
          "output_type": "execute_result",
          "data": {
            "text/html": [
              "<div>\n",
              "<style scoped>\n",
              "    .dataframe tbody tr th:only-of-type {\n",
              "        vertical-align: middle;\n",
              "    }\n",
              "\n",
              "    .dataframe tbody tr th {\n",
              "        vertical-align: top;\n",
              "    }\n",
              "\n",
              "    .dataframe thead th {\n",
              "        text-align: right;\n",
              "    }\n",
              "</style>\n",
              "<table border=\"1\" class=\"dataframe\">\n",
              "  <thead>\n",
              "    <tr style=\"text-align: right;\">\n",
              "      <th></th>\n",
              "      <th>country</th>\n",
              "      <th>year</th>\n",
              "      <th>sex</th>\n",
              "      <th>age</th>\n",
              "      <th>suicides_no</th>\n",
              "      <th>population</th>\n",
              "      <th>suicides/100k pop</th>\n",
              "      <th>country-year</th>\n",
              "      <th>HDI for year</th>\n",
              "      <th>gdp_for_year ($)</th>\n",
              "      <th>gdp_per_capita ($)</th>\n",
              "      <th>generation</th>\n",
              "    </tr>\n",
              "  </thead>\n",
              "  <tbody>\n",
              "    <tr>\n",
              "      <th>0</th>\n",
              "      <td>Albania</td>\n",
              "      <td>1987</td>\n",
              "      <td>male</td>\n",
              "      <td>15-24 years</td>\n",
              "      <td>21</td>\n",
              "      <td>312900</td>\n",
              "      <td>6.71</td>\n",
              "      <td>Albania1987</td>\n",
              "      <td>NaN</td>\n",
              "      <td>2,156,624,900</td>\n",
              "      <td>796</td>\n",
              "      <td>Generation X</td>\n",
              "    </tr>\n",
              "    <tr>\n",
              "      <th>1</th>\n",
              "      <td>Albania</td>\n",
              "      <td>1987</td>\n",
              "      <td>male</td>\n",
              "      <td>35-54 years</td>\n",
              "      <td>16</td>\n",
              "      <td>308000</td>\n",
              "      <td>5.19</td>\n",
              "      <td>Albania1987</td>\n",
              "      <td>NaN</td>\n",
              "      <td>2,156,624,900</td>\n",
              "      <td>796</td>\n",
              "      <td>Silent</td>\n",
              "    </tr>\n",
              "    <tr>\n",
              "      <th>2</th>\n",
              "      <td>Albania</td>\n",
              "      <td>1987</td>\n",
              "      <td>female</td>\n",
              "      <td>15-24 years</td>\n",
              "      <td>14</td>\n",
              "      <td>289700</td>\n",
              "      <td>4.83</td>\n",
              "      <td>Albania1987</td>\n",
              "      <td>NaN</td>\n",
              "      <td>2,156,624,900</td>\n",
              "      <td>796</td>\n",
              "      <td>Generation X</td>\n",
              "    </tr>\n",
              "    <tr>\n",
              "      <th>3</th>\n",
              "      <td>Albania</td>\n",
              "      <td>1987</td>\n",
              "      <td>male</td>\n",
              "      <td>75+ years</td>\n",
              "      <td>1</td>\n",
              "      <td>21800</td>\n",
              "      <td>4.59</td>\n",
              "      <td>Albania1987</td>\n",
              "      <td>NaN</td>\n",
              "      <td>2,156,624,900</td>\n",
              "      <td>796</td>\n",
              "      <td>G.I. Generation</td>\n",
              "    </tr>\n",
              "    <tr>\n",
              "      <th>4</th>\n",
              "      <td>Albania</td>\n",
              "      <td>1987</td>\n",
              "      <td>male</td>\n",
              "      <td>25-34 years</td>\n",
              "      <td>9</td>\n",
              "      <td>274300</td>\n",
              "      <td>3.28</td>\n",
              "      <td>Albania1987</td>\n",
              "      <td>NaN</td>\n",
              "      <td>2,156,624,900</td>\n",
              "      <td>796</td>\n",
              "      <td>Boomers</td>\n",
              "    </tr>\n",
              "  </tbody>\n",
              "</table>\n",
              "</div>"
            ],
            "text/plain": [
              "   country  year  ... gdp_per_capita ($)       generation\n",
              "0  Albania  1987  ...                796     Generation X\n",
              "1  Albania  1987  ...                796           Silent\n",
              "2  Albania  1987  ...                796     Generation X\n",
              "3  Albania  1987  ...                796  G.I. Generation\n",
              "4  Albania  1987  ...                796          Boomers\n",
              "\n",
              "[5 rows x 12 columns]"
            ]
          },
          "metadata": {
            "tags": []
          },
          "execution_count": 14
        }
      ]
    },
    {
      "cell_type": "code",
      "metadata": {
        "id": "60laOCOO0oQo",
        "colab_type": "code",
        "outputId": "ab3f09c4-f172-4781-89a4-a3f87a56eb63",
        "colab": {
          "base_uri": "https://localhost:8080/",
          "height": 206
        }
      },
      "source": [
        "df.tail()"
      ],
      "execution_count": 0,
      "outputs": [
        {
          "output_type": "execute_result",
          "data": {
            "text/html": [
              "<div>\n",
              "<style scoped>\n",
              "    .dataframe tbody tr th:only-of-type {\n",
              "        vertical-align: middle;\n",
              "    }\n",
              "\n",
              "    .dataframe tbody tr th {\n",
              "        vertical-align: top;\n",
              "    }\n",
              "\n",
              "    .dataframe thead th {\n",
              "        text-align: right;\n",
              "    }\n",
              "</style>\n",
              "<table border=\"1\" class=\"dataframe\">\n",
              "  <thead>\n",
              "    <tr style=\"text-align: right;\">\n",
              "      <th></th>\n",
              "      <th>country</th>\n",
              "      <th>year</th>\n",
              "      <th>sex</th>\n",
              "      <th>age</th>\n",
              "      <th>suicides_no</th>\n",
              "      <th>population</th>\n",
              "      <th>suicides/100k pop</th>\n",
              "      <th>country-year</th>\n",
              "      <th>HDI for year</th>\n",
              "      <th>gdp_for_year ($)</th>\n",
              "      <th>gdp_per_capita ($)</th>\n",
              "      <th>generation</th>\n",
              "    </tr>\n",
              "  </thead>\n",
              "  <tbody>\n",
              "    <tr>\n",
              "      <th>27815</th>\n",
              "      <td>Uzbekistan</td>\n",
              "      <td>2014</td>\n",
              "      <td>female</td>\n",
              "      <td>35-54 years</td>\n",
              "      <td>107</td>\n",
              "      <td>3620833</td>\n",
              "      <td>2.96</td>\n",
              "      <td>Uzbekistan2014</td>\n",
              "      <td>0.675</td>\n",
              "      <td>63,067,077,179</td>\n",
              "      <td>2309</td>\n",
              "      <td>Generation X</td>\n",
              "    </tr>\n",
              "    <tr>\n",
              "      <th>27816</th>\n",
              "      <td>Uzbekistan</td>\n",
              "      <td>2014</td>\n",
              "      <td>female</td>\n",
              "      <td>75+ years</td>\n",
              "      <td>9</td>\n",
              "      <td>348465</td>\n",
              "      <td>2.58</td>\n",
              "      <td>Uzbekistan2014</td>\n",
              "      <td>0.675</td>\n",
              "      <td>63,067,077,179</td>\n",
              "      <td>2309</td>\n",
              "      <td>Silent</td>\n",
              "    </tr>\n",
              "    <tr>\n",
              "      <th>27817</th>\n",
              "      <td>Uzbekistan</td>\n",
              "      <td>2014</td>\n",
              "      <td>male</td>\n",
              "      <td>5-14 years</td>\n",
              "      <td>60</td>\n",
              "      <td>2762158</td>\n",
              "      <td>2.17</td>\n",
              "      <td>Uzbekistan2014</td>\n",
              "      <td>0.675</td>\n",
              "      <td>63,067,077,179</td>\n",
              "      <td>2309</td>\n",
              "      <td>Generation Z</td>\n",
              "    </tr>\n",
              "    <tr>\n",
              "      <th>27818</th>\n",
              "      <td>Uzbekistan</td>\n",
              "      <td>2014</td>\n",
              "      <td>female</td>\n",
              "      <td>5-14 years</td>\n",
              "      <td>44</td>\n",
              "      <td>2631600</td>\n",
              "      <td>1.67</td>\n",
              "      <td>Uzbekistan2014</td>\n",
              "      <td>0.675</td>\n",
              "      <td>63,067,077,179</td>\n",
              "      <td>2309</td>\n",
              "      <td>Generation Z</td>\n",
              "    </tr>\n",
              "    <tr>\n",
              "      <th>27819</th>\n",
              "      <td>Uzbekistan</td>\n",
              "      <td>2014</td>\n",
              "      <td>female</td>\n",
              "      <td>55-74 years</td>\n",
              "      <td>21</td>\n",
              "      <td>1438935</td>\n",
              "      <td>1.46</td>\n",
              "      <td>Uzbekistan2014</td>\n",
              "      <td>0.675</td>\n",
              "      <td>63,067,077,179</td>\n",
              "      <td>2309</td>\n",
              "      <td>Boomers</td>\n",
              "    </tr>\n",
              "  </tbody>\n",
              "</table>\n",
              "</div>"
            ],
            "text/plain": [
              "          country  year  ... gdp_per_capita ($)    generation\n",
              "27815  Uzbekistan  2014  ...               2309  Generation X\n",
              "27816  Uzbekistan  2014  ...               2309        Silent\n",
              "27817  Uzbekistan  2014  ...               2309  Generation Z\n",
              "27818  Uzbekistan  2014  ...               2309  Generation Z\n",
              "27819  Uzbekistan  2014  ...               2309       Boomers\n",
              "\n",
              "[5 rows x 12 columns]"
            ]
          },
          "metadata": {
            "tags": []
          },
          "execution_count": 15
        }
      ]
    },
    {
      "cell_type": "code",
      "metadata": {
        "id": "Xr3IG4uM09ks",
        "colab_type": "code",
        "outputId": "9932db0d-241e-46fd-aec4-68dbf615abba",
        "colab": {
          "base_uri": "https://localhost:8080/",
          "height": 262
        }
      },
      "source": [
        "df.dtypes"
      ],
      "execution_count": 0,
      "outputs": [
        {
          "output_type": "execute_result",
          "data": {
            "text/plain": [
              "country                object\n",
              "year                    int64\n",
              "sex                    object\n",
              "age                    object\n",
              "suicides_no             int64\n",
              "population              int64\n",
              "suicides/100k pop     float64\n",
              "country-year           object\n",
              "HDI for year          float64\n",
              " gdp_for_year ($)      object\n",
              "gdp_per_capita ($)      int64\n",
              "generation             object\n",
              "dtype: object"
            ]
          },
          "metadata": {
            "tags": []
          },
          "execution_count": 16
        }
      ]
    },
    {
      "cell_type": "code",
      "metadata": {
        "id": "aMd_fNjM0xu4",
        "colab_type": "code",
        "outputId": "457e04c7-ea46-4ce4-a388-27cdef760344",
        "colab": {
          "base_uri": "https://localhost:8080/",
          "height": 206
        }
      },
      "source": [
        "df2 = df[df['country'] == 'United States']\n",
        "df2.head()"
      ],
      "execution_count": 0,
      "outputs": [
        {
          "output_type": "execute_result",
          "data": {
            "text/html": [
              "<div>\n",
              "<style scoped>\n",
              "    .dataframe tbody tr th:only-of-type {\n",
              "        vertical-align: middle;\n",
              "    }\n",
              "\n",
              "    .dataframe tbody tr th {\n",
              "        vertical-align: top;\n",
              "    }\n",
              "\n",
              "    .dataframe thead th {\n",
              "        text-align: right;\n",
              "    }\n",
              "</style>\n",
              "<table border=\"1\" class=\"dataframe\">\n",
              "  <thead>\n",
              "    <tr style=\"text-align: right;\">\n",
              "      <th></th>\n",
              "      <th>country</th>\n",
              "      <th>year</th>\n",
              "      <th>sex</th>\n",
              "      <th>age</th>\n",
              "      <th>suicides_no</th>\n",
              "      <th>population</th>\n",
              "      <th>suicides/100k pop</th>\n",
              "      <th>country-year</th>\n",
              "      <th>HDI for year</th>\n",
              "      <th>gdp_for_year ($)</th>\n",
              "      <th>gdp_per_capita ($)</th>\n",
              "      <th>generation</th>\n",
              "    </tr>\n",
              "  </thead>\n",
              "  <tbody>\n",
              "    <tr>\n",
              "      <th>26848</th>\n",
              "      <td>United States</td>\n",
              "      <td>1985</td>\n",
              "      <td>male</td>\n",
              "      <td>75+ years</td>\n",
              "      <td>2177</td>\n",
              "      <td>4064000</td>\n",
              "      <td>53.57</td>\n",
              "      <td>United States1985</td>\n",
              "      <td>0.841</td>\n",
              "      <td>4,346,734,000,000</td>\n",
              "      <td>19693</td>\n",
              "      <td>G.I. Generation</td>\n",
              "    </tr>\n",
              "    <tr>\n",
              "      <th>26849</th>\n",
              "      <td>United States</td>\n",
              "      <td>1985</td>\n",
              "      <td>male</td>\n",
              "      <td>55-74 years</td>\n",
              "      <td>5302</td>\n",
              "      <td>17971000</td>\n",
              "      <td>29.50</td>\n",
              "      <td>United States1985</td>\n",
              "      <td>0.841</td>\n",
              "      <td>4,346,734,000,000</td>\n",
              "      <td>19693</td>\n",
              "      <td>G.I. Generation</td>\n",
              "    </tr>\n",
              "    <tr>\n",
              "      <th>26850</th>\n",
              "      <td>United States</td>\n",
              "      <td>1985</td>\n",
              "      <td>male</td>\n",
              "      <td>25-34 years</td>\n",
              "      <td>5134</td>\n",
              "      <td>20986000</td>\n",
              "      <td>24.46</td>\n",
              "      <td>United States1985</td>\n",
              "      <td>0.841</td>\n",
              "      <td>4,346,734,000,000</td>\n",
              "      <td>19693</td>\n",
              "      <td>Boomers</td>\n",
              "    </tr>\n",
              "    <tr>\n",
              "      <th>26851</th>\n",
              "      <td>United States</td>\n",
              "      <td>1985</td>\n",
              "      <td>male</td>\n",
              "      <td>35-54 years</td>\n",
              "      <td>6053</td>\n",
              "      <td>26589000</td>\n",
              "      <td>22.77</td>\n",
              "      <td>United States1985</td>\n",
              "      <td>0.841</td>\n",
              "      <td>4,346,734,000,000</td>\n",
              "      <td>19693</td>\n",
              "      <td>Silent</td>\n",
              "    </tr>\n",
              "    <tr>\n",
              "      <th>26852</th>\n",
              "      <td>United States</td>\n",
              "      <td>1985</td>\n",
              "      <td>male</td>\n",
              "      <td>15-24 years</td>\n",
              "      <td>4267</td>\n",
              "      <td>19962000</td>\n",
              "      <td>21.38</td>\n",
              "      <td>United States1985</td>\n",
              "      <td>0.841</td>\n",
              "      <td>4,346,734,000,000</td>\n",
              "      <td>19693</td>\n",
              "      <td>Generation X</td>\n",
              "    </tr>\n",
              "  </tbody>\n",
              "</table>\n",
              "</div>"
            ],
            "text/plain": [
              "             country  year  ... gdp_per_capita ($)       generation\n",
              "26848  United States  1985  ...              19693  G.I. Generation\n",
              "26849  United States  1985  ...              19693  G.I. Generation\n",
              "26850  United States  1985  ...              19693          Boomers\n",
              "26851  United States  1985  ...              19693           Silent\n",
              "26852  United States  1985  ...              19693     Generation X\n",
              "\n",
              "[5 rows x 12 columns]"
            ]
          },
          "metadata": {
            "tags": []
          },
          "execution_count": 26
        }
      ]
    },
    {
      "cell_type": "code",
      "metadata": {
        "id": "Dl1z5c792rVs",
        "colab_type": "code",
        "outputId": "a859c36f-67b8-45cc-fba1-ef6a829c21e2",
        "colab": {
          "base_uri": "https://localhost:8080/",
          "height": 36
        }
      },
      "source": [
        "df2.shape"
      ],
      "execution_count": 0,
      "outputs": [
        {
          "output_type": "execute_result",
          "data": {
            "text/plain": [
              "(372, 12)"
            ]
          },
          "metadata": {
            "tags": []
          },
          "execution_count": 28
        }
      ]
    },
    {
      "cell_type": "code",
      "metadata": {
        "id": "cUMwWvd_2yZQ",
        "colab_type": "code",
        "outputId": "3de570b1-7726-4bdf-cf4f-6c0c446ab1ec",
        "colab": {
          "base_uri": "https://localhost:8080/",
          "height": 262
        }
      },
      "source": [
        "df2.isnull().sum()"
      ],
      "execution_count": 0,
      "outputs": [
        {
          "output_type": "execute_result",
          "data": {
            "text/plain": [
              "country                 0\n",
              "year                    0\n",
              "sex                     0\n",
              "age                     0\n",
              "suicides_no             0\n",
              "population              0\n",
              "suicides/100k pop       0\n",
              "country-year            0\n",
              "HDI for year          252\n",
              " gdp_for_year ($)       0\n",
              "gdp_per_capita ($)      0\n",
              "generation              0\n",
              "dtype: int64"
            ]
          },
          "metadata": {
            "tags": []
          },
          "execution_count": 29
        }
      ]
    },
    {
      "cell_type": "code",
      "metadata": {
        "id": "Mc4RWyng2M98",
        "colab_type": "code",
        "outputId": "42107375-67e3-4858-cf53-d035a5640c4c",
        "colab": {
          "base_uri": "https://localhost:8080/",
          "height": 36
        }
      },
      "source": [
        "df2['year'].max()"
      ],
      "execution_count": 0,
      "outputs": [
        {
          "output_type": "execute_result",
          "data": {
            "text/plain": [
              "2015"
            ]
          },
          "metadata": {
            "tags": []
          },
          "execution_count": 31
        }
      ]
    },
    {
      "cell_type": "code",
      "metadata": {
        "id": "SOKlybsy3MvM",
        "colab_type": "code",
        "outputId": "6894300f-d2bf-45e2-95aa-ded33a3956e7",
        "colab": {
          "base_uri": "https://localhost:8080/",
          "height": 187
        }
      },
      "source": [
        "df2_1 = df2['suicides/100k pop'].describe()\n",
        "print (\"Summary statistics for the U.S. population suicide rate/100K pop in all age groups for 1985 to 2015\", df2_1)"
      ],
      "execution_count": 0,
      "outputs": [
        {
          "output_type": "stream",
          "text": [
            "Summary statistics for the U.S. population suicide rate/100K pop in all age groups for 1985 to 2015 count    372.000000\n",
            "mean      13.819812\n",
            "std       13.229875\n",
            "min        0.260000\n",
            "25%        3.972500\n",
            "50%        6.890000\n",
            "75%       23.305000\n",
            "max       58.950000\n",
            "Name: suicides/100k pop, dtype: float64\n"
          ],
          "name": "stdout"
        }
      ]
    },
    {
      "cell_type": "code",
      "metadata": {
        "id": "xqAsiOtP6Moc",
        "colab_type": "code",
        "outputId": "5ee3d9fd-b14e-4906-8912-c46216cb3645",
        "colab": {
          "base_uri": "https://localhost:8080/",
          "height": 130
        }
      },
      "source": [
        "# isolating U.S. suicide number data across all age groups for 1985-2015.\n",
        "df2_1_1 = df2['suicides/100k pop']\n",
        "df2_1_1.head()"
      ],
      "execution_count": 0,
      "outputs": [
        {
          "output_type": "execute_result",
          "data": {
            "text/plain": [
              "26848    53.57\n",
              "26849    29.50\n",
              "26850    24.46\n",
              "26851    22.77\n",
              "26852    21.38\n",
              "Name: suicides/100k pop, dtype: float64"
            ]
          },
          "metadata": {
            "tags": []
          },
          "execution_count": 161
        }
      ]
    },
    {
      "cell_type": "code",
      "metadata": {
        "id": "yaqEKi6w6URg",
        "colab_type": "code",
        "outputId": "c3441573-285e-47c4-ef1d-807ee9ca47fb",
        "colab": {
          "base_uri": "https://localhost:8080/",
          "height": 36
        }
      },
      "source": [
        "df2_1_1.shape"
      ],
      "execution_count": 0,
      "outputs": [
        {
          "output_type": "execute_result",
          "data": {
            "text/plain": [
              "(372,)"
            ]
          },
          "metadata": {
            "tags": []
          },
          "execution_count": 162
        }
      ]
    },
    {
      "cell_type": "code",
      "metadata": {
        "id": "78Z4DitH3iwk",
        "colab_type": "code",
        "outputId": "b3e53cfd-0713-4076-d760-484b376d861c",
        "colab": {
          "base_uri": "https://localhost:8080/",
          "height": 206
        }
      },
      "source": [
        "df3 = df2[df2['year'] == 2015]\n",
        "df3.head()"
      ],
      "execution_count": 0,
      "outputs": [
        {
          "output_type": "execute_result",
          "data": {
            "text/html": [
              "<div>\n",
              "<style scoped>\n",
              "    .dataframe tbody tr th:only-of-type {\n",
              "        vertical-align: middle;\n",
              "    }\n",
              "\n",
              "    .dataframe tbody tr th {\n",
              "        vertical-align: top;\n",
              "    }\n",
              "\n",
              "    .dataframe thead th {\n",
              "        text-align: right;\n",
              "    }\n",
              "</style>\n",
              "<table border=\"1\" class=\"dataframe\">\n",
              "  <thead>\n",
              "    <tr style=\"text-align: right;\">\n",
              "      <th></th>\n",
              "      <th>country</th>\n",
              "      <th>year</th>\n",
              "      <th>sex</th>\n",
              "      <th>age</th>\n",
              "      <th>suicides_no</th>\n",
              "      <th>population</th>\n",
              "      <th>suicides/100k pop</th>\n",
              "      <th>country-year</th>\n",
              "      <th>HDI for year</th>\n",
              "      <th>gdp_for_year ($)</th>\n",
              "      <th>gdp_per_capita ($)</th>\n",
              "      <th>generation</th>\n",
              "    </tr>\n",
              "  </thead>\n",
              "  <tbody>\n",
              "    <tr>\n",
              "      <th>27208</th>\n",
              "      <td>United States</td>\n",
              "      <td>2015</td>\n",
              "      <td>male</td>\n",
              "      <td>75+ years</td>\n",
              "      <td>3171</td>\n",
              "      <td>8171136</td>\n",
              "      <td>38.81</td>\n",
              "      <td>United States2015</td>\n",
              "      <td>NaN</td>\n",
              "      <td>18,120,714,000,000</td>\n",
              "      <td>60387</td>\n",
              "      <td>Silent</td>\n",
              "    </tr>\n",
              "    <tr>\n",
              "      <th>27209</th>\n",
              "      <td>United States</td>\n",
              "      <td>2015</td>\n",
              "      <td>male</td>\n",
              "      <td>55-74 years</td>\n",
              "      <td>9068</td>\n",
              "      <td>32264697</td>\n",
              "      <td>28.11</td>\n",
              "      <td>United States2015</td>\n",
              "      <td>NaN</td>\n",
              "      <td>18,120,714,000,000</td>\n",
              "      <td>60387</td>\n",
              "      <td>Boomers</td>\n",
              "    </tr>\n",
              "    <tr>\n",
              "      <th>27210</th>\n",
              "      <td>United States</td>\n",
              "      <td>2015</td>\n",
              "      <td>male</td>\n",
              "      <td>35-54 years</td>\n",
              "      <td>11634</td>\n",
              "      <td>41658010</td>\n",
              "      <td>27.93</td>\n",
              "      <td>United States2015</td>\n",
              "      <td>NaN</td>\n",
              "      <td>18,120,714,000,000</td>\n",
              "      <td>60387</td>\n",
              "      <td>Generation X</td>\n",
              "    </tr>\n",
              "    <tr>\n",
              "      <th>27211</th>\n",
              "      <td>United States</td>\n",
              "      <td>2015</td>\n",
              "      <td>male</td>\n",
              "      <td>25-34 years</td>\n",
              "      <td>5503</td>\n",
              "      <td>22137097</td>\n",
              "      <td>24.86</td>\n",
              "      <td>United States2015</td>\n",
              "      <td>NaN</td>\n",
              "      <td>18,120,714,000,000</td>\n",
              "      <td>60387</td>\n",
              "      <td>Millenials</td>\n",
              "    </tr>\n",
              "    <tr>\n",
              "      <th>27212</th>\n",
              "      <td>United States</td>\n",
              "      <td>2015</td>\n",
              "      <td>male</td>\n",
              "      <td>15-24 years</td>\n",
              "      <td>4359</td>\n",
              "      <td>22615073</td>\n",
              "      <td>19.27</td>\n",
              "      <td>United States2015</td>\n",
              "      <td>NaN</td>\n",
              "      <td>18,120,714,000,000</td>\n",
              "      <td>60387</td>\n",
              "      <td>Millenials</td>\n",
              "    </tr>\n",
              "  </tbody>\n",
              "</table>\n",
              "</div>"
            ],
            "text/plain": [
              "             country  year  ... gdp_per_capita ($)    generation\n",
              "27208  United States  2015  ...              60387        Silent\n",
              "27209  United States  2015  ...              60387       Boomers\n",
              "27210  United States  2015  ...              60387  Generation X\n",
              "27211  United States  2015  ...              60387    Millenials\n",
              "27212  United States  2015  ...              60387    Millenials\n",
              "\n",
              "[5 rows x 12 columns]"
            ]
          },
          "metadata": {
            "tags": []
          },
          "execution_count": 34
        }
      ]
    },
    {
      "cell_type": "code",
      "metadata": {
        "id": "73EJmgYf30F8",
        "colab_type": "code",
        "outputId": "ddbb48af-4af3-4b38-dbf8-2542e93657bc",
        "colab": {
          "base_uri": "https://localhost:8080/",
          "height": 187
        }
      },
      "source": [
        "df4= df3['suicides/100k pop'].describe()\n",
        "print (\"Summary statistics for the U.S. population suicide rate/100k pop in all age groups for 2015\", df4)"
      ],
      "execution_count": 0,
      "outputs": [
        {
          "output_type": "stream",
          "text": [
            "Summary statistics for the U.S. population suicide rate/100k pop in all age groups for 2015 count    12.000000\n",
            "mean     14.617500\n",
            "std      12.646263\n",
            "min       0.780000\n",
            "25%       5.067500\n",
            "50%       8.970000\n",
            "75%      25.627500\n",
            "max      38.810000\n",
            "Name: suicides/100k pop, dtype: float64\n"
          ],
          "name": "stdout"
        }
      ]
    },
    {
      "cell_type": "code",
      "metadata": {
        "id": "QvVrqvor52JY",
        "colab_type": "code",
        "outputId": "38cd371f-161f-4ac6-d57c-c2cfb017cf77",
        "colab": {
          "base_uri": "https://localhost:8080/",
          "height": 130
        }
      },
      "source": [
        "# isolating U.S. suicide rate/100k pop. data across all age groups for 2015.\n",
        "df5= df3['suicides/100k pop']\n",
        "df5.head()"
      ],
      "execution_count": 0,
      "outputs": [
        {
          "output_type": "execute_result",
          "data": {
            "text/plain": [
              "27208    38.81\n",
              "27209    28.11\n",
              "27210    27.93\n",
              "27211    24.86\n",
              "27212    19.27\n",
              "Name: suicides/100k pop, dtype: float64"
            ]
          },
          "metadata": {
            "tags": []
          },
          "execution_count": 164
        }
      ]
    },
    {
      "cell_type": "code",
      "metadata": {
        "id": "lBTugw-x77co",
        "colab_type": "code",
        "outputId": "2c279bee-394f-45ea-e046-5e9bd2d21a21",
        "colab": {
          "base_uri": "https://localhost:8080/",
          "height": 206
        }
      },
      "source": [
        "\n",
        "\n",
        "df6 = df2[df2['year'] == 1985]\n",
        "df6.head()"
      ],
      "execution_count": 0,
      "outputs": [
        {
          "output_type": "execute_result",
          "data": {
            "text/html": [
              "<div>\n",
              "<style scoped>\n",
              "    .dataframe tbody tr th:only-of-type {\n",
              "        vertical-align: middle;\n",
              "    }\n",
              "\n",
              "    .dataframe tbody tr th {\n",
              "        vertical-align: top;\n",
              "    }\n",
              "\n",
              "    .dataframe thead th {\n",
              "        text-align: right;\n",
              "    }\n",
              "</style>\n",
              "<table border=\"1\" class=\"dataframe\">\n",
              "  <thead>\n",
              "    <tr style=\"text-align: right;\">\n",
              "      <th></th>\n",
              "      <th>country</th>\n",
              "      <th>year</th>\n",
              "      <th>sex</th>\n",
              "      <th>age</th>\n",
              "      <th>suicides_no</th>\n",
              "      <th>population</th>\n",
              "      <th>suicides/100k pop</th>\n",
              "      <th>country-year</th>\n",
              "      <th>HDI for year</th>\n",
              "      <th>gdp_for_year ($)</th>\n",
              "      <th>gdp_per_capita ($)</th>\n",
              "      <th>generation</th>\n",
              "    </tr>\n",
              "  </thead>\n",
              "  <tbody>\n",
              "    <tr>\n",
              "      <th>26848</th>\n",
              "      <td>United States</td>\n",
              "      <td>1985</td>\n",
              "      <td>male</td>\n",
              "      <td>75+ years</td>\n",
              "      <td>2177</td>\n",
              "      <td>4064000</td>\n",
              "      <td>53.57</td>\n",
              "      <td>United States1985</td>\n",
              "      <td>0.841</td>\n",
              "      <td>4,346,734,000,000</td>\n",
              "      <td>19693</td>\n",
              "      <td>G.I. Generation</td>\n",
              "    </tr>\n",
              "    <tr>\n",
              "      <th>26849</th>\n",
              "      <td>United States</td>\n",
              "      <td>1985</td>\n",
              "      <td>male</td>\n",
              "      <td>55-74 years</td>\n",
              "      <td>5302</td>\n",
              "      <td>17971000</td>\n",
              "      <td>29.50</td>\n",
              "      <td>United States1985</td>\n",
              "      <td>0.841</td>\n",
              "      <td>4,346,734,000,000</td>\n",
              "      <td>19693</td>\n",
              "      <td>G.I. Generation</td>\n",
              "    </tr>\n",
              "    <tr>\n",
              "      <th>26850</th>\n",
              "      <td>United States</td>\n",
              "      <td>1985</td>\n",
              "      <td>male</td>\n",
              "      <td>25-34 years</td>\n",
              "      <td>5134</td>\n",
              "      <td>20986000</td>\n",
              "      <td>24.46</td>\n",
              "      <td>United States1985</td>\n",
              "      <td>0.841</td>\n",
              "      <td>4,346,734,000,000</td>\n",
              "      <td>19693</td>\n",
              "      <td>Boomers</td>\n",
              "    </tr>\n",
              "    <tr>\n",
              "      <th>26851</th>\n",
              "      <td>United States</td>\n",
              "      <td>1985</td>\n",
              "      <td>male</td>\n",
              "      <td>35-54 years</td>\n",
              "      <td>6053</td>\n",
              "      <td>26589000</td>\n",
              "      <td>22.77</td>\n",
              "      <td>United States1985</td>\n",
              "      <td>0.841</td>\n",
              "      <td>4,346,734,000,000</td>\n",
              "      <td>19693</td>\n",
              "      <td>Silent</td>\n",
              "    </tr>\n",
              "    <tr>\n",
              "      <th>26852</th>\n",
              "      <td>United States</td>\n",
              "      <td>1985</td>\n",
              "      <td>male</td>\n",
              "      <td>15-24 years</td>\n",
              "      <td>4267</td>\n",
              "      <td>19962000</td>\n",
              "      <td>21.38</td>\n",
              "      <td>United States1985</td>\n",
              "      <td>0.841</td>\n",
              "      <td>4,346,734,000,000</td>\n",
              "      <td>19693</td>\n",
              "      <td>Generation X</td>\n",
              "    </tr>\n",
              "  </tbody>\n",
              "</table>\n",
              "</div>"
            ],
            "text/plain": [
              "             country  year  ... gdp_per_capita ($)       generation\n",
              "26848  United States  1985  ...              19693  G.I. Generation\n",
              "26849  United States  1985  ...              19693  G.I. Generation\n",
              "26850  United States  1985  ...              19693          Boomers\n",
              "26851  United States  1985  ...              19693           Silent\n",
              "26852  United States  1985  ...              19693     Generation X\n",
              "\n",
              "[5 rows x 12 columns]"
            ]
          },
          "metadata": {
            "tags": []
          },
          "execution_count": 166
        }
      ]
    },
    {
      "cell_type": "code",
      "metadata": {
        "id": "y8iPt7dv8IJI",
        "colab_type": "code",
        "outputId": "809e4d9d-9782-40c1-eee3-cdc9139b0b66",
        "colab": {
          "base_uri": "https://localhost:8080/",
          "height": 130
        }
      },
      "source": [
        "# isolating U.S. suicide number data across all age groups for 1985.\n",
        "df7 = df6['suicides/100k pop']\n",
        "df7.head()"
      ],
      "execution_count": 0,
      "outputs": [
        {
          "output_type": "execute_result",
          "data": {
            "text/plain": [
              "26848    53.57\n",
              "26849    29.50\n",
              "26850    24.46\n",
              "26851    22.77\n",
              "26852    21.38\n",
              "Name: suicides/100k pop, dtype: float64"
            ]
          },
          "metadata": {
            "tags": []
          },
          "execution_count": 167
        }
      ]
    },
    {
      "cell_type": "code",
      "metadata": {
        "id": "H5C7LdUt9IQQ",
        "colab_type": "code",
        "outputId": "e3779516-513d-4fc7-f77c-e04f75c8bb0a",
        "colab": {
          "base_uri": "https://localhost:8080/",
          "height": 187
        }
      },
      "source": [
        "df8= df6['suicides/100k pop'].describe()\n",
        "print (\"Summary statistics for the U.S. population suicide rate/100k pop in all age groups for 1985\", df8)"
      ],
      "execution_count": 0,
      "outputs": [
        {
          "output_type": "stream",
          "text": [
            "Summary statistics for the U.S. population suicide rate/100k pop in all age groups for 1985 count    12.000000\n",
            "mean     15.393333\n",
            "std      15.597443\n",
            "min       0.440000\n",
            "25%       5.515000\n",
            "50%       7.460000\n",
            "75%      23.192500\n",
            "max      53.570000\n",
            "Name: suicides/100k pop, dtype: float64\n"
          ],
          "name": "stdout"
        }
      ]
    },
    {
      "cell_type": "markdown",
      "metadata": {
        "id": "IW4Sx-icYfVA",
        "colab_type": "text"
      },
      "source": [
        "## t test"
      ]
    },
    {
      "cell_type": "code",
      "metadata": {
        "id": "BrR-3Ryz39z0",
        "colab_type": "code",
        "colab": {}
      },
      "source": [
        "# Null hypothesis is that the average number of suicides for the U.S. in 2015 is not different from that in 1985.\n",
        "\n",
        "from scipy import stats\n",
        " "
      ],
      "execution_count": 0,
      "outputs": []
    },
    {
      "cell_type": "code",
      "metadata": {
        "id": "rGbZqT_65nxE",
        "colab_type": "code",
        "outputId": "b0f0823b-4991-4a58-cf01-6c242887b179",
        "colab": {
          "base_uri": "https://localhost:8080/",
          "height": 36
        }
      },
      "source": [
        "# First using t test\n",
        "\n",
        "from scipy.stats import ttest_ind, ttest_ind_from_stats, ttest_rel\n",
        "ttest_ind(df5, df7, equal_var=False)"
      ],
      "execution_count": 0,
      "outputs": [
        {
          "output_type": "execute_result",
          "data": {
            "text/plain": [
              "Ttest_indResult(statistic=-0.1338426064235618, pvalue=0.8947955182545053)"
            ]
          },
          "metadata": {
            "tags": []
          },
          "execution_count": 170
        }
      ]
    },
    {
      "cell_type": "code",
      "metadata": {
        "id": "ay5sAGSb6ymI",
        "colab_type": "code",
        "colab": {}
      },
      "source": [
        "# Using t test, the null hypthesis is true and there is no difference in the number of suicide rate/100 k pop. across all age groups in the U.S. in 2015 vs. 1985 (p value is >0.05)"
      ],
      "execution_count": 0,
      "outputs": []
    },
    {
      "cell_type": "markdown",
      "metadata": {
        "id": "RyDyIF5vXzI4",
        "colab_type": "text"
      },
      "source": [
        "### Applying frequentist method to calculate mean, variance and std dev for GDP per capita in 1985-2015 population sample"
      ]
    },
    {
      "cell_type": "code",
      "metadata": {
        "id": "hQqLjn20GOn4",
        "colab_type": "code",
        "outputId": "0663c9f6-2a21-41d5-e732-bc76e47cead4",
        "colab": {
          "base_uri": "https://localhost:8080/",
          "height": 130
        }
      },
      "source": [
        "df8 = df2['gdp_per_capita ($)']\n",
        "df8.head()"
      ],
      "execution_count": 0,
      "outputs": [
        {
          "output_type": "execute_result",
          "data": {
            "text/plain": [
              "26848    19693\n",
              "26849    19693\n",
              "26850    19693\n",
              "26851    19693\n",
              "26852    19693\n",
              "Name: gdp_per_capita ($), dtype: int64"
            ]
          },
          "metadata": {
            "tags": []
          },
          "execution_count": 235
        }
      ]
    },
    {
      "cell_type": "code",
      "metadata": {
        "id": "3uQySUk9GZJU",
        "colab_type": "code",
        "outputId": "68547599-9711-4e7b-cee6-bc3fb279055f",
        "colab": {
          "base_uri": "https://localhost:8080/",
          "height": 36
        }
      },
      "source": [
        "df8.isnull().sum()"
      ],
      "execution_count": 0,
      "outputs": [
        {
          "output_type": "execute_result",
          "data": {
            "text/plain": [
              "0"
            ]
          },
          "metadata": {
            "tags": []
          },
          "execution_count": 236
        }
      ]
    },
    {
      "cell_type": "code",
      "metadata": {
        "id": "uYVmrPLKL42s",
        "colab_type": "code",
        "outputId": "0ab09ec1-cb27-4534-e76e-0e20ea5f7306",
        "colab": {
          "base_uri": "https://localhost:8080/",
          "height": 187
        }
      },
      "source": [
        "df8.describe()"
      ],
      "execution_count": 0,
      "outputs": [
        {
          "output_type": "execute_result",
          "data": {
            "text/plain": [
              "count      372.000000\n",
              "mean     39269.612903\n",
              "std      12334.117581\n",
              "min      19693.000000\n",
              "25%      27760.000000\n",
              "50%      39218.000000\n",
              "75%      51585.000000\n",
              "max      60387.000000\n",
              "Name: gdp_per_capita ($), dtype: float64"
            ]
          },
          "metadata": {
            "tags": []
          },
          "execution_count": 261
        }
      ]
    },
    {
      "cell_type": "code",
      "metadata": {
        "id": "7VPuKHEgIqJA",
        "colab_type": "code",
        "outputId": "6d2af598-67e5-4ddd-e10b-c72dae84d188",
        "colab": {
          "base_uri": "https://localhost:8080/",
          "height": 36
        }
      },
      "source": [
        "mean = np.mean(df8)\n",
        "mean"
      ],
      "execution_count": 0,
      "outputs": [
        {
          "output_type": "execute_result",
          "data": {
            "text/plain": [
              "39269.6129032258"
            ]
          },
          "metadata": {
            "tags": []
          },
          "execution_count": 265
        }
      ]
    },
    {
      "cell_type": "code",
      "metadata": {
        "id": "Wl6y6jZyVhN0",
        "colab_type": "code",
        "outputId": "69022d22-0886-461c-91c5-96cdcc0a8974",
        "colab": {
          "base_uri": "https://localhost:8080/",
          "height": 36
        }
      },
      "source": [
        "# standard deviation using frequentist approach\n",
        "std = np.std(df8, ddof=1)\n",
        "std"
      ],
      "execution_count": 0,
      "outputs": [
        {
          "output_type": "execute_result",
          "data": {
            "text/plain": [
              "12334.117580785927"
            ]
          },
          "metadata": {
            "tags": []
          },
          "execution_count": 249
        }
      ]
    },
    {
      "cell_type": "code",
      "metadata": {
        "id": "t7A7G7dHWzWE",
        "colab_type": "code",
        "outputId": "ddf9903b-5707-473f-af51-453a38d9c8ce",
        "colab": {
          "base_uri": "https://localhost:8080/",
          "height": 36
        }
      },
      "source": [
        "var = np.var(df8)\n",
        "var"
      ],
      "execution_count": 0,
      "outputs": [
        {
          "output_type": "execute_result",
          "data": {
            "text/plain": [
              "151721503.65660775"
            ]
          },
          "metadata": {
            "tags": []
          },
          "execution_count": 250
        }
      ]
    },
    {
      "cell_type": "code",
      "metadata": {
        "id": "FXTMEhPkKVLA",
        "colab_type": "code",
        "colab": {}
      },
      "source": [
        "sample_size = 372\n"
      ],
      "execution_count": 0,
      "outputs": []
    },
    {
      "cell_type": "code",
      "metadata": {
        "id": "0IBigfs2JyaA",
        "colab_type": "code",
        "outputId": "966fb34b-6b35-473b-c8bd-679ded4130f9",
        "colab": {
          "base_uri": "https://localhost:8080/",
          "height": 36
        }
      },
      "source": [
        "std_err = std/np.sqrt(sample_size)\n",
        "std_err"
      ],
      "execution_count": 0,
      "outputs": [
        {
          "output_type": "execute_result",
          "data": {
            "text/plain": [
              "639.494206420015"
            ]
          },
          "metadata": {
            "tags": []
          },
          "execution_count": 263
        }
      ]
    },
    {
      "cell_type": "code",
      "metadata": {
        "id": "UqpXDxxIMNp8",
        "colab_type": "code",
        "outputId": "e6ec0a80-c476-4ee8-f50f-a02a9685c0e6",
        "colab": {
          "base_uri": "https://localhost:8080/",
          "height": 36
        }
      },
      "source": [
        "t = 1.984 # 95% confidence\n",
        "(mean, mean - t*std_err, mean + t*std_err)\n",
        "# The output gives the mean and 95% C.I. by frequentist approach."
      ],
      "execution_count": 0,
      "outputs": [
        {
          "output_type": "execute_result",
          "data": {
            "text/plain": [
              "(39269.6129032258, 38000.85639768849, 40538.369408763116)"
            ]
          },
          "metadata": {
            "tags": []
          },
          "execution_count": 266
        }
      ]
    },
    {
      "cell_type": "code",
      "metadata": {
        "id": "BdkODUTj2Qpo",
        "colab_type": "code",
        "outputId": "3a1f451f-4ce4-4835-b142-1fede1756230",
        "colab": {
          "base_uri": "https://localhost:8080/",
          "height": 187
        }
      },
      "source": [
        "#using df.describe function to compare summary stats for 1985-2016 U.S. GDP per capita\n",
        "\n",
        "df8.describe()\n",
        "\n",
        "# The mean and std. deviation match that calculated using above numpy functions"
      ],
      "execution_count": 0,
      "outputs": [
        {
          "output_type": "execute_result",
          "data": {
            "text/plain": [
              "count      372.000000\n",
              "mean     39269.612903\n",
              "std      12334.117581\n",
              "min      19693.000000\n",
              "25%      27760.000000\n",
              "50%      39218.000000\n",
              "75%      51585.000000\n",
              "max      60387.000000\n",
              "Name: gdp_per_capita ($), dtype: float64"
            ]
          },
          "metadata": {
            "tags": []
          },
          "execution_count": 247
        }
      ]
    },
    {
      "cell_type": "markdown",
      "metadata": {
        "id": "40Mu3pwfYC6Q",
        "colab_type": "text"
      },
      "source": [
        "###Applying Bayesian method to calculate mean, variance and std dev for 1985-2016 U.S. GDP per capita"
      ]
    },
    {
      "cell_type": "code",
      "metadata": {
        "id": "CaEWfUM9FPLM",
        "colab_type": "code",
        "outputId": "5289ca87-ef06-4a59-a620-983a0d60bd4d",
        "colab": {
          "base_uri": "https://localhost:8080/",
          "height": 74
        }
      },
      "source": [
        "\n",
        "# Bayesian method, using alpha =0.95, for measuring 95% confidence intervals\n",
        "# this function also returns the confidence intervals.\n",
        "\n",
        "stats.bayes_mvs(df8, alpha=0.95)\n",
        "\n",
        "# first line of the output gives the mean and 95% CI using Bayesian method"
      ],
      "execution_count": 0,
      "outputs": [
        {
          "output_type": "execute_result",
          "data": {
            "text/plain": [
              "(Mean(statistic=39269.6129032258, minmax=(38012.12505108928, 40527.10075536233)),\n",
              " Variance(statistic=152955011.8164175, minmax=(132409278.74174349, 176635676.78271937)),\n",
              " Std_dev(statistic=12359.121987835366, minmax=(11506.92307881405, 13290.435537736126)))"
            ]
          },
          "metadata": {
            "tags": []
          },
          "execution_count": 267
        }
      ]
    },
    {
      "cell_type": "markdown",
      "metadata": {
        "id": "u-5Y-3Q0XpQE",
        "colab_type": "text"
      },
      "source": [
        "### Conclusions:\n",
        "### Mean is the same and 95% confidence intervals are almost the same using frequentist and Bayesian statistics.\n",
        "### Variance is slightly higher for Bayesian method but can be considered almost similar.\n",
        "### Standard deviation is slightly higher for Bayesian method but can be considered almost similar."
      ]
    },
    {
      "cell_type": "markdown",
      "metadata": {
        "id": "-ojifgoX8ZhY",
        "colab_type": "text"
      },
      "source": [
        "###Plotting histogram showing the means and distribution of 2015 suicide rate dataset by frequentist and Bayesian methods."
      ]
    },
    {
      "cell_type": "code",
      "metadata": {
        "id": "HtNhAZc9hle0",
        "colab_type": "code",
        "outputId": "c2165101-18a4-4adb-87a7-9f05875e7574",
        "colab": {
          "base_uri": "https://localhost:8080/",
          "height": 175
        }
      },
      "source": [
        "\n",
        "# frequentist and Bayesian approach means are same = 2453.83\n",
        "\n",
        "means = 39269.61, 39269.61\n",
        "\n",
        "# standard deviation by frequentist method = 12334.11\n",
        "# standard deviation by Bayesian method = 12359.12\n",
        "\n",
        "stdevs = 12334.11, 12359.12\n",
        "dist = pd.DataFrame(\n",
        "    np.random.normal(loc=means, scale=stdevs, size=(1000, 2)),\n",
        "    columns=['frequentist', 'Bayesian'])\n",
        "dist.agg(['min', 'max', 'mean', 'std']).round(decimals=2)\n",
        "\n",
        "    \n"
      ],
      "execution_count": 0,
      "outputs": [
        {
          "output_type": "execute_result",
          "data": {
            "text/html": [
              "<div>\n",
              "<style scoped>\n",
              "    .dataframe tbody tr th:only-of-type {\n",
              "        vertical-align: middle;\n",
              "    }\n",
              "\n",
              "    .dataframe tbody tr th {\n",
              "        vertical-align: top;\n",
              "    }\n",
              "\n",
              "    .dataframe thead th {\n",
              "        text-align: right;\n",
              "    }\n",
              "</style>\n",
              "<table border=\"1\" class=\"dataframe\">\n",
              "  <thead>\n",
              "    <tr style=\"text-align: right;\">\n",
              "      <th></th>\n",
              "      <th>frequentist</th>\n",
              "      <th>Bayesian</th>\n",
              "    </tr>\n",
              "  </thead>\n",
              "  <tbody>\n",
              "    <tr>\n",
              "      <th>min</th>\n",
              "      <td>-3623.15</td>\n",
              "      <td>-1291.13</td>\n",
              "    </tr>\n",
              "    <tr>\n",
              "      <th>max</th>\n",
              "      <td>79032.95</td>\n",
              "      <td>85028.64</td>\n",
              "    </tr>\n",
              "    <tr>\n",
              "      <th>mean</th>\n",
              "      <td>39853.88</td>\n",
              "      <td>40113.72</td>\n",
              "    </tr>\n",
              "    <tr>\n",
              "      <th>std</th>\n",
              "      <td>12610.43</td>\n",
              "      <td>12768.43</td>\n",
              "    </tr>\n",
              "  </tbody>\n",
              "</table>\n",
              "</div>"
            ],
            "text/plain": [
              "      frequentist  Bayesian\n",
              "min      -3623.15  -1291.13\n",
              "max      79032.95  85028.64\n",
              "mean     39853.88  40113.72\n",
              "std      12610.43  12768.43"
            ]
          },
          "metadata": {
            "tags": []
          },
          "execution_count": 270
        }
      ]
    },
    {
      "cell_type": "code",
      "metadata": {
        "id": "17C4oUlZszhg",
        "colab_type": "code",
        "outputId": "b77a9741-f5b5-45ed-9b6c-fe026c3676bf",
        "colab": {
          "base_uri": "https://localhost:8080/",
          "height": 281
        }
      },
      "source": [
        "fig, ax = plt.subplots()\n",
        "dist.plot.kde(ax=ax, legend=False, title='Histogram: frequentist vs. Bayesian methods')\n",
        "dist.plot.hist(density=True, ax=ax)\n",
        "ax.set_ylabel('Probability')\n",
        "ax.grid(axis='y')\n",
        "ax.set_facecolor('#d8dcd6')\n"
      ],
      "execution_count": 0,
      "outputs": [
        {
          "output_type": "display_data",
          "data": {
            "image/png": "[encoded data removed]",
            "text/plain": [
              "<Figure size 432x288 with 1 Axes>"
            ]
          },
          "metadata": {
            "tags": []
          }
        }
      ]
    },
    {
      "cell_type": "markdown",
      "metadata": {
        "id": "6Fyhev1gO8p8",
        "colab_type": "text"
      },
      "source": [
        "### The histogram shows almost similar distribution by both frequentist and Bayesian methods\n",
        "\n",
        "### The difference in the two methods is the way in which their practictioners interpret the confidence intervals which is explained below. Other differences are also discussed below.\n"
      ]
    },
    {
      "cell_type": "markdown",
      "metadata": {
        "id": "33KBUB7j8rfY",
        "colab_type": "text"
      },
      "source": [
        "###In your own words, summarize the difference between Bayesian and Frequentist statistics"
      ]
    },
    {
      "cell_type": "markdown",
      "metadata": {
        "id": "qlnnkAYN14Co",
        "colab_type": "text"
      },
      "source": [
        "Frequentist statistics relies on a confidence interval (C.I.) while tring to estimate the value of an unknown parameter in a sample, while the Bayesian approach relies on a credible region (C.R.). Frequentists consider probability as a measure of the frequency of repeated events while Bayesians consider probability as a measure of the degree of certainty about values. frequentists consider model parametrs to be fixed and the data to be random, while Bayesians consider model parametrs to be random and data to be fixed.\n",
        "In the Bayesian formula, the posterior input on mean is exactly equal to the frequentist sampling distribution for mean (as above example of suicide rate as shown). The confidence intervals calculated by the two methods are also similar but their interpretation is different. \n",
        "Frequentist confidence interval interpretation = There is 95% probability that an unknown variable from this sample has mean within the two confidence intervals.\n",
        "Bayesian confidence interval interpretation = Given our observed data, there is a 95% probability that the true value of mean falls within these two confidence intervals.\n",
        "\n",
        "The Bayesian interpreation is thus a statement of probability about the parameter value given fixed bounds. The frequentist solution is a probability about the bounds given a fixed parameter value.\n",
        "\n",
        "The Bayesian approach fixes the credible region and guarantees that 95$ of possible values of mean will fall withn it. The frequentist approach fixes the parameter and guarantees that 95% of possible confidence intervals will contain it.\n",
        "\n",
        "In most scientific applications, frequentism is answering the wrong question while analyzing what a particular observed set of data is telling us. Still, frequentism continues to be be the standard approach when submitting papers, etc. to scientific journals or doing drug trials, etc. since reviewers look for p values calculated using frequentist approach.\n",
        "\n",
        "####Bayesian approach relies heavily on prior information while frequentist approach does not rely on prior information.\n",
        "\n",
        "\n",
        "\n",
        "\n",
        "\n",
        "\n",
        "\n"
      ]
    },
    {
      "cell_type": "markdown",
      "metadata": {
        "id": "uWgWjp3PQ3Sq",
        "colab_type": "text"
      },
      "source": [
        "## Resources"
      ]
    },
    {
      "cell_type": "markdown",
      "metadata": {
        "id": "QRgHqmYIQ9qn",
        "colab_type": "text"
      },
      "source": [
        "- [Worked example of Bayes rule calculation](https://en.wikipedia.org/wiki/Bayes'_theorem#Examples) (helpful as it fully breaks out the denominator)\n",
        "- [Source code for mvsdist in scipy](https://github.com/scipy/scipy/blob/90534919e139d2a81c24bf08341734ff41a3db12/scipy/stats/morestats.py#L139)"
      ]
    }
  ]
}